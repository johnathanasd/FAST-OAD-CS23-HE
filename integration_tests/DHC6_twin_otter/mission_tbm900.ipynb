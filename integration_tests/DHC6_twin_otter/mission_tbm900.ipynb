{
 "cells": [
  {
   "cell_type": "markdown",
   "id": "7eafe974-f725-4702-950d-2454444fc4a8",
   "metadata": {},
   "source": [
    "# Display of the mission parameters TBM900"
   ]
  },
  {
   "cell_type": "code",
   "execution_count": null,
   "id": "dee26570-a005-4002-ac21-9f145ad45b16",
   "metadata": {
    "tags": []
   },
   "outputs": [],
   "source": [
    "import os.path as pth\n",
    "import logging\n",
    "import shutil\n",
    "\n",
    "import fastoad.api as oad\n",
    "import fastga_he.api as oad_he\n",
    "\n",
    "DATA_FOLDER_PATH = \"data\"\n",
    "RESULTS_FOLDER_PATH = \"results\"\n",
    "WORK_FOLDER_PATH = \"workdir\"\n",
    "\n",
    "CONFIGURATION_FILE = pth.join(DATA_FOLDER_PATH, \"full_sizing_tbm900.yml\")\n",
    "PT_FILE = pth.join(DATA_FOLDER_PATH, \"turboshaft_propulsion.yml\")\n",
    "# The following PT file is not used for sizing just to try out the network function\n",
    "\n",
    "# For having log messages on screen\n",
    "logging.basicConfig(level=logging.WARNING, format=\"%(levelname)-8s: %(message)s\")"
   ]
  },
  {
   "cell_type": "code",
   "execution_count": null,
   "id": "f30eb7a5-33e7-4782-9413-49f17acb7d77",
   "metadata": {
    "tags": []
   },
   "outputs": [],
   "source": [
    "NETWORK_FILE = pth.join(WORK_FOLDER_PATH, \"pipistrel_assembly.html\")\n",
    "\n",
    "oad_he.power_train_network_viewer(power_train_file_path=PT_FILE, network_file_path=NETWORK_FILE)\n",
    "\n",
    "from IPython.display import IFrame\n",
    "\n",
    "# For some reason, this doesn't display icon. Opening it in Firefox does the trick.\n",
    "IFrame(src=NETWORK_FILE, width=\"100%\", height=\"500px\")"
   ]
  },
  {
   "cell_type": "code",
   "execution_count": null,
   "id": "d320ec4f-4528-4a0b-83a2-46d090ee6db1",
   "metadata": {
    "tags": []
   },
   "outputs": [],
   "source": [
    "MISSION_DATA_FILE = pth.join(RESULTS_FOLDER_PATH, \"turboshaft_propulsion.csv\")\n",
    "PT_DATA_FILE = pth.join(RESULTS_FOLDER_PATH, \"fuel_propulsion_pt_watcher.csv\")\n",
    "\n",
    "perfo_viewer = oad_he.PerformancesViewer(\n",
    "    power_train_data_file_path=PT_DATA_FILE,\n",
    "    mission_data_file_path=MISSION_DATA_FILE,\n",
    "    plot_height=800,\n",
    ")"
   ]
  },
  {
   "cell_type": "markdown",
   "id": "523e3bf2-8b15-441a-8341-aef2a9629135",
   "metadata": {},
   "source": [
    "# Comparaison of design mission with OP mission"
   ]
  },
  {
   "cell_type": "code",
   "execution_count": null,
   "id": "9f190144-0021-415e-acf5-a738c4ed7b94",
   "metadata": {
    "tags": []
   },
   "outputs": [],
   "source": [
    "OP_MISSION_DATA_FILE = pth.join(RESULTS_FOLDER_PATH, \"turboshaft_propulsion_op_mission.csv\")\n",
    "OP_PT_DATA_FILE = pth.join(RESULTS_FOLDER_PATH, \"fuel_propulsion_pt_watcher_op_mission.csv\")\n",
    "\n",
    "perfo_viewer = oad_he.PerformancesViewer(\n",
    "    power_train_data_file_path=OP_PT_DATA_FILE,\n",
    "    mission_data_file_path=OP_MISSION_DATA_FILE,\n",
    "    plot_height=800,\n",
    ")"
   ]
  },
  {
   "cell_type": "markdown",
   "id": "bc81623b-81c3-4812-b9b3-f644f8df4257",
   "metadata": {},
   "source": [
    "# EcoPulse retrofit analysis"
   ]
  },
  {
   "cell_type": "code",
   "execution_count": null,
   "id": "0d77304f-802d-45bb-9da6-91098779c68d",
   "metadata": {
    "tags": []
   },
   "outputs": [],
   "source": [
    "OP_MISSION_DATA_FILE = pth.join(RESULTS_FOLDER_PATH, \"turbo_electric_propulsion.csv\")\n",
    "OP_PT_DATA_FILE = pth.join(RESULTS_FOLDER_PATH, \"turbo_electric_propulsion_pt_watcher.csv\")\n",
    "\n",
    "perfo_viewer = oad_he.PerformancesViewer(\n",
    "    power_train_data_file_path=OP_PT_DATA_FILE,\n",
    "    mission_data_file_path=OP_MISSION_DATA_FILE,\n",
    "    plot_height=800,\n",
    ")"
   ]
  },
  {
   "cell_type": "markdown",
   "id": "7792d3f5-2c8c-4c27-b723-06dee894682d",
   "metadata": {},
   "source": [
    "# EcoPulse new wing"
   ]
  },
  {
   "cell_type": "code",
   "execution_count": null,
   "id": "ff4e3661-260e-44d0-b3c7-94316b547724",
   "metadata": {
    "tags": []
   },
   "outputs": [],
   "source": [
    "OP_MISSION_DATA_FILE = pth.join(RESULTS_FOLDER_PATH, \"ecopulse_powertrain_new_wing.csv\")\n",
    "OP_PT_DATA_FILE = pth.join(RESULTS_FOLDER_PATH, \"ecopulse_powertrain_new_wing_pt_watcher.csv\")\n",
    "\n",
    "perfo_viewer = oad_he.PerformancesViewer(\n",
    "    power_train_data_file_path=OP_PT_DATA_FILE,\n",
    "    mission_data_file_path=OP_MISSION_DATA_FILE,\n",
    "    plot_height=800,\n",
    ")"
   ]
  },
  {
   "cell_type": "markdown",
   "id": "0e5e6f6c-a9ad-40fb-92c0-f39cc45643e1",
   "metadata": {
    "tags": []
   },
   "source": [
    "# EcoPulse new wing mission analysis"
   ]
  },
  {
   "cell_type": "code",
   "execution_count": null,
   "id": "7e4ec89c-4e85-491f-9eba-f33ef89ae56d",
   "metadata": {
    "tags": []
   },
   "outputs": [],
   "source": [
    "ECOPULSE_MA_MISSION_DATA_FILE = pth.join(\n",
    "    RESULTS_FOLDER_PATH, \"ecopulse_powertrain_new_wing_mission_analysis.csv\"\n",
    ")\n",
    "ECOPULSE_MA_PT_DATA_FILE = pth.join(\n",
    "    RESULTS_FOLDER_PATH, \"ecopulse_powertrain_new_wing_pt_watcher_mission_analysis.csv\"\n",
    ")\n",
    "\n",
    "perfo_viewer = oad_he.PerformancesViewer(\n",
    "    power_train_data_file_path=ECOPULSE_MA_PT_DATA_FILE,\n",
    "    mission_data_file_path=ECOPULSE_MA_MISSION_DATA_FILE,\n",
    "    plot_height=800,\n",
    ")"
   ]
  },
  {
   "cell_type": "code",
   "execution_count": null,
   "id": "b852dcb6-ad34-418d-beeb-e03ae0933273",
   "metadata": {},
   "outputs": [],
   "source": []
  }
 ],
 "metadata": {
  "kernelspec": {
   "display_name": "Python 3 (ipykernel)",
   "language": "python",
   "name": "python3"
  },
  "language_info": {
   "codemirror_mode": {
    "name": "ipython",
    "version": 3
   },
   "file_extension": ".py",
   "mimetype": "text/x-python",
   "name": "python",
   "nbconvert_exporter": "python",
   "pygments_lexer": "ipython3",
   "version": "3.8.16"
  }
 },
 "nbformat": 4,
 "nbformat_minor": 5
}
