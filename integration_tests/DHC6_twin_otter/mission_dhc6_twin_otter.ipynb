{
 "cells": [
  {
   "cell_type": "markdown",
   "id": "7eafe974-f725-4702-950d-2454444fc4a8",
   "metadata": {},
   "source": [
    "# Display of the mission parameters DHC-6 Twin Otter 400 series"
   ]
  },
  {
   "cell_type": "markdown",
   "id": "3421126c-2b7b-48d9-a437-ca000ed4f0a8",
   "metadata": {},
   "source": [
    "Twin Otter aircraft check"
   ]
  },
  {
   "cell_type": "code",
   "execution_count": 20,
   "id": "d78cfc80-0874-4c29-9e1f-37943dd3fba6",
   "metadata": {
    "tags": []
   },
   "outputs": [],
   "source": [
    "import os.path as pth\n",
    "\n",
    "RESULT_FOLDER_PATH = \"results\"\n",
    "OUTPUT_FILE = pth.join(RESULT_FOLDER_PATH, \"oad_process_outputs_pemfc_turboshaft_hybrid.xml\")"
   ]
  },
  {
   "cell_type": "code",
   "execution_count": 10,
   "id": "3a72fe46-fd99-4a69-866e-609ae3bae215",
   "metadata": {
    "tags": []
   },
   "outputs": [
    {
     "name": "stderr",
     "output_type": "stream",
     "text": [
      "C:\\Users\\c.liu\\AppData\\Local\\Temp\\ipykernel_11240\\1401452210.py:7: DeprecationWarning: Importing display from IPython.core.display is deprecated since IPython 7.14, please import from IPython display\n",
      "  from IPython.core.display import display, HTML\n"
     ]
    },
    {
     "data": {
      "text/html": [
       "<style>.container { width:95% !important; }</style>"
      ],
      "text/plain": [
       "<IPython.core.display.HTML object>"
      ]
     },
     "metadata": {},
     "output_type": "display_data"
    }
   ],
   "source": [
    "import os.path as pth\n",
    "\n",
    "import fastoad.api as oad\n",
    "import fastga.utils.postprocessing.post_processing_api as api_plots\n",
    "\n",
    "# For using all screen width\n",
    "from IPython.core.display import display, HTML\n",
    "\n",
    "display(HTML(\"<style>.container { width:95% !important; }</style>\"))"
   ]
  },
  {
   "cell_type": "code",
   "execution_count": 21,
   "id": "6002e179-0cb7-4511-abe7-8e81c996f9fa",
   "metadata": {
    "tags": []
   },
   "outputs": [
    {
     "name": "stderr",
     "output_type": "stream",
     "text": [
      "C:\\Users\\c.liu\\Anaconda3\\envs\\FAST_GA_HE\\lib\\site-packages\\fastoad\\_utils\\strings.py:56: UserWarning: genfromtxt: Empty input file: \"<_io.StringIO object at 0x000002E6A51BCE50>\"\n",
      "  return np.genfromtxt(text_io, delimiter=\",\").tolist()\n",
      "C:\\Users\\c.liu\\Anaconda3\\envs\\FAST_GA_HE\\lib\\site-packages\\fastoad\\_utils\\strings.py:56: UserWarning: genfromtxt: Empty input file: \"<_io.StringIO object at 0x000002E6A51BCEE0>\"\n",
      "  return np.genfromtxt(text_io, delimiter=\",\").tolist()\n",
      "C:\\Users\\c.liu\\Anaconda3\\envs\\FAST_GA_HE\\lib\\site-packages\\fastoad\\_utils\\strings.py:56: UserWarning: genfromtxt: Empty input file: \"<_io.StringIO object at 0x000002E6A51E20D0>\"\n",
      "  return np.genfromtxt(text_io, delimiter=\",\").tolist()\n"
     ]
    },
    {
     "data": {
      "application/vnd.jupyter.widget-view+json": {
       "model_id": "d5b3c86c6e914052a886b03c727d9c1d",
       "version_major": 2,
       "version_minor": 0
      },
      "text/plain": [
       "VBox(children=(HBox(children=(Button(description='Load', icon='upload', style=ButtonStyle(), tooltip='Load the…"
      ]
     },
     "metadata": {},
     "output_type": "display_data"
    }
   ],
   "source": [
    "from fastoad import api as api_cs25\n",
    "\n",
    "ottor400_MDA_OUTPUT_FILE = pth.join(RESULT_FOLDER_PATH, \"oad_process_outputs_pemfc_turboshaft_hybrid.xml\")\n",
    "otter400_topview = pth.join(RESULT_FOLDER_PATH, \"DHC-6 twin otter 400s.png\")\n",
    "api_cs25.variable_viewer(OUTPUT_FILE)"
   ]
  },
  {
   "cell_type": "code",
   "execution_count": 4,
   "id": "029e8753-891f-400d-aa1c-65aa788a8a8a",
   "metadata": {
    "tags": []
   },
   "outputs": [
    {
     "name": "stderr",
     "output_type": "stream",
     "text": [
      "C:\\Users\\c.liu\\Anaconda3\\envs\\FAST_GA_HE\\lib\\site-packages\\fastoad\\_utils\\strings.py:56: UserWarning: genfromtxt: Empty input file: \"<_io.StringIO object at 0x000002E6A3F7A280>\"\n",
      "  return np.genfromtxt(text_io, delimiter=\",\").tolist()\n",
      "C:\\Users\\c.liu\\Anaconda3\\envs\\FAST_GA_HE\\lib\\site-packages\\fastoad\\_utils\\strings.py:56: UserWarning: genfromtxt: Empty input file: \"<_io.StringIO object at 0x000002E6A3F7A310>\"\n",
      "  return np.genfromtxt(text_io, delimiter=\",\").tolist()\n",
      "C:\\Users\\c.liu\\Anaconda3\\envs\\FAST_GA_HE\\lib\\site-packages\\fastoad\\_utils\\strings.py:56: UserWarning: genfromtxt: Empty input file: \"<_io.StringIO object at 0x000002E6A3F7A430>\"\n",
      "  return np.genfromtxt(text_io, delimiter=\",\").tolist()\n"
     ]
    },
    {
     "ename": "ValueError",
     "evalue": "'data:geometry:wing:kink:leading_edge:x:local' is not in list",
     "output_type": "error",
     "traceback": [
      "\u001b[1;31m---------------------------------------------------------------------------\u001b[0m",
      "\u001b[1;31mValueError\u001b[0m                                Traceback (most recent call last)",
      "Cell \u001b[1;32mIn[4], line 3\u001b[0m\n\u001b[0;32m      1\u001b[0m \u001b[38;5;28;01mfrom\u001b[39;00m \u001b[38;5;21;01mPIL\u001b[39;00m \u001b[38;5;28;01mimport\u001b[39;00m Image\n\u001b[1;32m----> 3\u001b[0m fig \u001b[38;5;241m=\u001b[39m \u001b[43mapi_plots\u001b[49m\u001b[38;5;241;43m.\u001b[39;49m\u001b[43maircraft_geometry_plot\u001b[49m\u001b[43m(\u001b[49m\u001b[43mottor400_MDA_OUTPUT_FILE\u001b[49m\u001b[43m,\u001b[49m\u001b[43m \u001b[49m\u001b[43mname\u001b[49m\u001b[38;5;241;43m=\u001b[39;49m\u001b[38;5;124;43m\"\u001b[39;49m\u001b[38;5;124;43mTwin Otter DHC6-400 MDA\u001b[39;49m\u001b[38;5;124;43m\"\u001b[39;49m\u001b[43m)\u001b[49m\n\u001b[0;32m      4\u001b[0m top_view \u001b[38;5;241m=\u001b[39m Image\u001b[38;5;241m.\u001b[39mopen(otter400_topview)\n\u001b[0;32m      5\u001b[0m fig\u001b[38;5;241m.\u001b[39madd_layout_image(\n\u001b[0;32m      6\u001b[0m     \u001b[38;5;28mdict\u001b[39m(\n\u001b[0;32m      7\u001b[0m         source\u001b[38;5;241m=\u001b[39mtop_view,\n\u001b[1;32m   (...)\u001b[0m\n\u001b[0;32m     17\u001b[0m     )\n\u001b[0;32m     18\u001b[0m )\n",
      "File \u001b[1;32m~\\Anaconda3\\envs\\FAST_GA_HE\\lib\\site-packages\\fastga\\utils\\postprocessing\\analysis_and_plots.py:53\u001b[0m, in \u001b[0;36maircraft_geometry_plot\u001b[1;34m(aircraft_file_path, name, fig, plot_nacelle, file_formatter)\u001b[0m\n\u001b[0;32m     50\u001b[0m variables \u001b[38;5;241m=\u001b[39m VariableIO(aircraft_file_path, file_formatter)\u001b[38;5;241m.\u001b[39mread()\n\u001b[0;32m     52\u001b[0m \u001b[38;5;66;03m# Wing parameters\u001b[39;00m\n\u001b[1;32m---> 53\u001b[0m wing_kink_leading_edge_x \u001b[38;5;241m=\u001b[39m \u001b[43mvariables\u001b[49m\u001b[43m[\u001b[49m\u001b[38;5;124;43m\"\u001b[39;49m\u001b[38;5;124;43mdata:geometry:wing:kink:leading_edge:x:local\u001b[39;49m\u001b[38;5;124;43m\"\u001b[39;49m\u001b[43m]\u001b[49m\u001b[38;5;241m.\u001b[39mvalue[\u001b[38;5;241m0\u001b[39m]\n\u001b[0;32m     54\u001b[0m wing_tip_leading_edge_x \u001b[38;5;241m=\u001b[39m variables[\u001b[38;5;124m\"\u001b[39m\u001b[38;5;124mdata:geometry:wing:tip:leading_edge:x:local\u001b[39m\u001b[38;5;124m\"\u001b[39m]\u001b[38;5;241m.\u001b[39mvalue[\u001b[38;5;241m0\u001b[39m]\n\u001b[0;32m     55\u001b[0m wing_root_y \u001b[38;5;241m=\u001b[39m variables[\u001b[38;5;124m\"\u001b[39m\u001b[38;5;124mdata:geometry:wing:root:y\u001b[39m\u001b[38;5;124m\"\u001b[39m]\u001b[38;5;241m.\u001b[39mvalue[\u001b[38;5;241m0\u001b[39m]\n",
      "File \u001b[1;32m~\\Anaconda3\\envs\\FAST_GA_HE\\lib\\site-packages\\fastoad\\openmdao\\variables\\variable_list.py:381\u001b[0m, in \u001b[0;36mVariableList.__getitem__\u001b[1;34m(self, key)\u001b[0m\n\u001b[0;32m    379\u001b[0m \u001b[38;5;28;01mdef\u001b[39;00m \u001b[38;5;21m__getitem__\u001b[39m(\u001b[38;5;28mself\u001b[39m, key) \u001b[38;5;241m-\u001b[39m\u001b[38;5;241m>\u001b[39m Variable:\n\u001b[0;32m    380\u001b[0m     \u001b[38;5;28;01mif\u001b[39;00m \u001b[38;5;28misinstance\u001b[39m(key, \u001b[38;5;28mstr\u001b[39m):\n\u001b[1;32m--> 381\u001b[0m         \u001b[38;5;28;01mreturn\u001b[39;00m \u001b[38;5;28mself\u001b[39m[\u001b[38;5;28;43mself\u001b[39;49m\u001b[38;5;241;43m.\u001b[39;49m\u001b[43mnames\u001b[49m\u001b[43m(\u001b[49m\u001b[43m)\u001b[49m\u001b[38;5;241;43m.\u001b[39;49m\u001b[43mindex\u001b[49m\u001b[43m(\u001b[49m\u001b[43mkey\u001b[49m\u001b[43m)\u001b[49m]\n\u001b[0;32m    382\u001b[0m     \u001b[38;5;28;01melse\u001b[39;00m:\n\u001b[0;32m    383\u001b[0m         \u001b[38;5;28;01mreturn\u001b[39;00m \u001b[38;5;28msuper\u001b[39m()\u001b[38;5;241m.\u001b[39m\u001b[38;5;21m__getitem__\u001b[39m(key)\n",
      "\u001b[1;31mValueError\u001b[0m: 'data:geometry:wing:kink:leading_edge:x:local' is not in list"
     ]
    }
   ],
   "source": [
    "from PIL import Image\n",
    "\n",
    "fig = api_plots.aircraft_geometry_plot(ottor400_MDA_OUTPUT_FILE, name=\"Twin Otter DHC6-400 MDA\")\n",
    "top_view = Image.open(otter400_topview)\n",
    "fig.add_layout_image(\n",
    "    dict(\n",
    "        source=top_view,\n",
    "        xref=\"x\",\n",
    "        yref=\"y\",\n",
    "        y=14.55,\n",
    "        x=-19.81 / 2,\n",
    "        sizex=19.81,\n",
    "        sizey=14.55,\n",
    "        sizing=\"stretch\",\n",
    "        opacity=0.75,\n",
    "        layer=\"below\",\n",
    "    )\n",
    ")\n",
    "\n",
    "fig.show()"
   ]
  },
  {
   "cell_type": "code",
   "execution_count": null,
   "id": "dee26570-a005-4002-ac21-9f145ad45b16",
   "metadata": {
    "tags": []
   },
   "outputs": [],
   "source": [
    "import os.path as pth\n",
    "import logging\n",
    "import shutil\n",
    "\n",
    "import fastoad.api as oad\n",
    "import fastga_he.api as oad_he\n",
    "\n",
    "DATA_FOLDER_PATH = \"data\"\n",
    "RESULTS_FOLDER_PATH = \"results\"\n",
    "WORK_FOLDER_PATH = \"workdir\"\n",
    "\n",
    "CONFIGURATION_FILE = pth.join(DATA_FOLDER_PATH, \"full_sizing_tbm900.yml\")\n",
    "PT_FILE = pth.join(DATA_FOLDER_PATH, \"turboshaft_propulsion.yml\")\n",
    "# The following PT file is not used for sizing just to try out the network function\n",
    "\n",
    "# For having log messages on screen\n",
    "logging.basicConfig(level=logging.WARNING, format=\"%(levelname)-8s: %(message)s\")"
   ]
  },
  {
   "cell_type": "code",
   "execution_count": null,
   "id": "f30eb7a5-33e7-4782-9413-49f17acb7d77",
   "metadata": {
    "tags": []
   },
   "outputs": [],
   "source": [
    "NETWORK_FILE = pth.join(WORK_FOLDER_PATH, \"pipistrel_assembly.html\")\n",
    "\n",
    "oad_he.power_train_network_viewer(power_train_file_path=PT_FILE, network_file_path=NETWORK_FILE)\n",
    "\n",
    "from IPython.display import IFrame\n",
    "\n",
    "# For some reason, this doesn't display icon. Opening it in Firefox does the trick.\n",
    "IFrame(src=NETWORK_FILE, width=\"100%\", height=\"500px\")"
   ]
  },
  {
   "cell_type": "code",
   "execution_count": null,
   "id": "d320ec4f-4528-4a0b-83a2-46d090ee6db1",
   "metadata": {
    "tags": []
   },
   "outputs": [],
   "source": [
    "MISSION_DATA_FILE = pth.join(RESULTS_FOLDER_PATH, \"turboshaft_propulsion.csv\")\n",
    "PT_DATA_FILE = pth.join(RESULTS_FOLDER_PATH, \"fuel_propulsion_pt_watcher.csv\")\n",
    "\n",
    "perfo_viewer = oad_he.PerformancesViewer(\n",
    "    power_train_data_file_path=PT_DATA_FILE,\n",
    "    mission_data_file_path=MISSION_DATA_FILE,\n",
    "    plot_height=800,\n",
    ")"
   ]
  },
  {
   "cell_type": "markdown",
   "id": "523e3bf2-8b15-441a-8341-aef2a9629135",
   "metadata": {},
   "source": [
    "# Comparaison of design mission with OP mission"
   ]
  },
  {
   "cell_type": "code",
   "execution_count": null,
   "id": "9f190144-0021-415e-acf5-a738c4ed7b94",
   "metadata": {
    "tags": []
   },
   "outputs": [],
   "source": [
    "OP_MISSION_DATA_FILE = pth.join(RESULTS_FOLDER_PATH, \"turboshaft_propulsion_op_mission.csv\")\n",
    "OP_PT_DATA_FILE = pth.join(RESULTS_FOLDER_PATH, \"fuel_propulsion_pt_watcher_op_mission.csv\")\n",
    "\n",
    "perfo_viewer = oad_he.PerformancesViewer(\n",
    "    power_train_data_file_path=OP_PT_DATA_FILE,\n",
    "    mission_data_file_path=OP_MISSION_DATA_FILE,\n",
    "    plot_height=800,\n",
    ")"
   ]
  },
  {
   "cell_type": "markdown",
   "id": "bc81623b-81c3-4812-b9b3-f644f8df4257",
   "metadata": {},
   "source": [
    "# EcoPulse retrofit analysis"
   ]
  },
  {
   "cell_type": "code",
   "execution_count": null,
   "id": "0d77304f-802d-45bb-9da6-91098779c68d",
   "metadata": {
    "tags": []
   },
   "outputs": [],
   "source": [
    "OP_MISSION_DATA_FILE = pth.join(RESULTS_FOLDER_PATH, \"turbo_electric_propulsion.csv\")\n",
    "OP_PT_DATA_FILE = pth.join(RESULTS_FOLDER_PATH, \"turbo_electric_propulsion_pt_watcher.csv\")\n",
    "\n",
    "perfo_viewer = oad_he.PerformancesViewer(\n",
    "    power_train_data_file_path=OP_PT_DATA_FILE,\n",
    "    mission_data_file_path=OP_MISSION_DATA_FILE,\n",
    "    plot_height=800,\n",
    ")"
   ]
  },
  {
   "cell_type": "markdown",
   "id": "7792d3f5-2c8c-4c27-b723-06dee894682d",
   "metadata": {},
   "source": [
    "# EcoPulse new wing"
   ]
  },
  {
   "cell_type": "code",
   "execution_count": null,
   "id": "ff4e3661-260e-44d0-b3c7-94316b547724",
   "metadata": {
    "tags": []
   },
   "outputs": [],
   "source": [
    "OP_MISSION_DATA_FILE = pth.join(RESULTS_FOLDER_PATH, \"ecopulse_powertrain_new_wing.csv\")\n",
    "OP_PT_DATA_FILE = pth.join(RESULTS_FOLDER_PATH, \"ecopulse_powertrain_new_wing_pt_watcher.csv\")\n",
    "\n",
    "perfo_viewer = oad_he.PerformancesViewer(\n",
    "    power_train_data_file_path=OP_PT_DATA_FILE,\n",
    "    mission_data_file_path=OP_MISSION_DATA_FILE,\n",
    "    plot_height=800,\n",
    ")"
   ]
  },
  {
   "cell_type": "markdown",
   "id": "0e5e6f6c-a9ad-40fb-92c0-f39cc45643e1",
   "metadata": {
    "tags": []
   },
   "source": [
    "# EcoPulse new wing mission analysis"
   ]
  },
  {
   "cell_type": "code",
   "execution_count": null,
   "id": "7e4ec89c-4e85-491f-9eba-f33ef89ae56d",
   "metadata": {
    "tags": []
   },
   "outputs": [],
   "source": [
    "ECOPULSE_MA_MISSION_DATA_FILE = pth.join(\n",
    "    RESULTS_FOLDER_PATH, \"ecopulse_powertrain_new_wing_mission_analysis.csv\"\n",
    ")\n",
    "ECOPULSE_MA_PT_DATA_FILE = pth.join(\n",
    "    RESULTS_FOLDER_PATH, \"ecopulse_powertrain_new_wing_pt_watcher_mission_analysis.csv\"\n",
    ")\n",
    "\n",
    "perfo_viewer = oad_he.PerformancesViewer(\n",
    "    power_train_data_file_path=ECOPULSE_MA_PT_DATA_FILE,\n",
    "    mission_data_file_path=ECOPULSE_MA_MISSION_DATA_FILE,\n",
    "    plot_height=800,\n",
    ")"
   ]
  },
  {
   "cell_type": "code",
   "execution_count": null,
   "id": "b852dcb6-ad34-418d-beeb-e03ae0933273",
   "metadata": {},
   "outputs": [],
   "source": []
  }
 ],
 "metadata": {
  "kernelspec": {
   "display_name": "Python 3 (ipykernel)",
   "language": "python",
   "name": "python3"
  },
  "language_info": {
   "codemirror_mode": {
    "name": "ipython",
    "version": 3
   },
   "file_extension": ".py",
   "mimetype": "text/x-python",
   "name": "python",
   "nbconvert_exporter": "python",
   "pygments_lexer": "ipython3",
   "version": "3.8.19"
  }
 },
 "nbformat": 4,
 "nbformat_minor": 5
}
