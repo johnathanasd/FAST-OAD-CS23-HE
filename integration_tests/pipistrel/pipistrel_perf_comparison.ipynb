{
 "cells": [
  {
   "cell_type": "markdown",
   "id": "c34e7b0c-82a2-465e-821a-f43da6f5ca4c",
   "metadata": {},
   "source": [
    "# Detailed mission computation of the Pipistrel SW128"
   ]
  },
  {
   "cell_type": "code",
   "execution_count": null,
   "id": "177a3dda-1f1a-4941-97b7-c89f8f888840",
   "metadata": {},
   "outputs": [],
   "source": [
    "import os.path as pth\n",
    "import logging\n",
    "import shutil\n",
    "\n",
    "import fastoad.api as oad\n",
    "import fastga_he.api as oad_he\n",
    "\n",
    "DATA_FOLDER_PATH = \"data\"\n",
    "RESULTS_FOLDER_PATH = \"results\"\n",
    "WORK_FOLDER_PATH = \"workdir\"\n",
    "\n",
    "CONFIGURATION_FILE = pth.join(WORK_FOLDER_PATH, \"pipistrel_mission_configuration.yml\")\n",
    "PT_FILE = pth.join(WORK_FOLDER_PATH, \"pipistrel_assembly_detailed_mission.yml\")\n",
    "# The following PT file is not used for sizing just to try out the network function\n",
    "SOURCE_FILE = pth.join(WORK_FOLDER_PATH, \"pipistrel_mission_in.xml\")\n",
    "\n",
    "# For having log messages on screen\n",
    "logging.basicConfig(level=logging.WARNING, format=\"%(levelname)-8s: %(message)s\")"
   ]
  },
  {
   "cell_type": "code",
   "execution_count": null,
   "id": "afc62d85",
   "metadata": {},
   "outputs": [],
   "source": [
    "# For using all screen width\n",
    "from IPython.display import display, HTML\n",
    "\n",
    "display(HTML(\"<style>.container { width:95% !important; }</style>\"))"
   ]
  },
  {
   "cell_type": "code",
   "execution_count": null,
   "id": "0f12ac3a-380f-4a09-b515-d0b5170490e4",
   "metadata": {},
   "outputs": [],
   "source": [
    "MISSION_DATA_FILE = pth.join(RESULTS_FOLDER_PATH, \"mission_data.csv\")\n",
    "PT_DATA_FILE = pth.join(RESULTS_FOLDER_PATH, \"pipistrel_power_train_data.csv\")\n",
    "\n",
    "perfo_viewer = oad_he.PerformancesViewer(\n",
    "    power_train_data_file_path=PT_DATA_FILE,\n",
    "    mission_data_file_path=MISSION_DATA_FILE,\n",
    "    plot_height=800,\n",
    ")"
   ]
  },
  {
   "cell_type": "markdown",
   "id": "96f249c7-ddcf-4b7f-b1e6-15246c61d5cd",
   "metadata": {},
   "source": [
    "# Comparaison of OP mission and design mission"
   ]
  },
  {
   "cell_type": "code",
   "execution_count": null,
   "id": "cc30fe47-3025-4913-9281-b5d0f05ff551",
   "metadata": {
    "tags": []
   },
   "outputs": [],
   "source": [
    "OP_MISSION_DATA_FILE = pth.join(WORK_FOLDER_PATH, \"op_mission_data.csv\")\n",
    "DESIGN_MISSION_DATA_FILE = pth.join(RESULTS_FOLDER_PATH, \"mission_data.csv\")\n",
    "\n",
    "mission = oad.MissionViewer()\n",
    "mission.add_mission(DESIGN_MISSION_DATA_FILE, name=\"Pipistrel design mission\")\n",
    "mission.add_mission(OP_MISSION_DATA_FILE, name=\"Pipstrel operational mission\")\n",
    "\n",
    "mission.display()"
   ]
  },
  {
   "cell_type": "code",
   "execution_count": null,
   "id": "9c3c500d-5330-480e-828d-8f318aff9f0d",
   "metadata": {
    "tags": []
   },
   "outputs": [],
   "source": [
    "OP_PT_DATA_FILE = pth.join(WORK_FOLDER_PATH, \"pipistrel_power_train_data_op_mission.csv\")\n",
    "\n",
    "perfo_viewer = oad_he.PerformancesViewer(\n",
    "    power_train_data_file_path=OP_PT_DATA_FILE,\n",
    "    mission_data_file_path=OP_MISSION_DATA_FILE,\n",
    "    plot_height=800,\n",
    ")"
   ]
  },
  {
   "cell_type": "code",
   "execution_count": null,
   "id": "db7094e8-a6e2-489d-a85e-00276c7bd3fd",
   "metadata": {},
   "outputs": [],
   "source": []
  }
 ],
 "metadata": {
  "kernelspec": {
   "display_name": "Python 3 (ipykernel)",
   "language": "python",
   "name": "python3"
  },
  "language_info": {
   "codemirror_mode": {
    "name": "ipython",
    "version": 3
   },
   "file_extension": ".py",
   "mimetype": "text/x-python",
   "name": "python",
   "nbconvert_exporter": "python",
   "pygments_lexer": "ipython3",
   "version": "3.8.16"
  }
 },
 "nbformat": 4,
 "nbformat_minor": 5
}
